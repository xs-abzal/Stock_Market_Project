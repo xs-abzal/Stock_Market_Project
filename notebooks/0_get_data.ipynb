{
 "cells": [
  {
   "cell_type": "markdown",
   "metadata": {},
   "source": [
    "## Stock Market Project. Get Data."
   ]
  },
  {
   "cell_type": "code",
   "execution_count": 3,
   "metadata": {},
   "outputs": [],
   "source": [
    "### Get data from Yahoo Finance using yfinance package\n",
    "### source for stocks list: [https://whalewisdom.com/]"
   ]
  },
  {
   "cell_type": "markdown",
   "metadata": {},
   "source": [
    "### 0. Import Libraries."
   ]
  },
  {
   "cell_type": "code",
   "execution_count": 75,
   "metadata": {},
   "outputs": [],
   "source": [
    "import pandas as pd\n",
    "import numpy as np\n",
    "import yfinance as yf\n",
    "import gc; gc.enable()\n",
    "import warnings\n",
    "warnings.filterwarnings(\"ignore\")\n"
   ]
  },
  {
   "cell_type": "markdown",
   "metadata": {},
   "source": [
    "### 1. Create lists with stock tickers.\n",
    "source for stocks list: [https://whalewisdom.com/filer/renaissance-technologies-llc]"
   ]
  },
  {
   "cell_type": "code",
   "execution_count": 76,
   "metadata": {},
   "outputs": [],
   "source": [
    "tickers_1=['BMY','NVO','VRTX','VRSN','BIIB',\n",
    "            'AGN','CMG','WMT','HUM','ABBV',\n",
    "            'GILD','PANW','TEAM','GSK','MNST',\n",
    "            'AMGN','NVS','HSY','S','TGT',\n",
    "            'DPZ','FTNT','MOH','BIDU','DUK',\n",
    "            'NEM','ETR','MRK','CABO','ALGN',\n",
    "            'VOD','FNV','FE','CL','GOLD',\n",
    "            'AEP','SO','NGG','ZM','EVRG',\n",
    "            'TSLA','JNJ','MKTX','AEE','CBOE',\n",
    "            'KR','AMZN','EBAY','ED','PBR']"
   ]
  },
  {
   "cell_type": "code",
   "execution_count": 86,
   "metadata": {},
   "outputs": [],
   "source": [
    "tickers_2 = ['COST','DBX','EXEL','JAZZ','UTHR',\n",
    "             'ICLR','BP','ALXN','GE','INCY',\n",
    "             'MBT','PGR','TER','HZNP','NEE',\n",
    "             'CME','AMT','NTES','VZ','T',\n",
    "             'ABMD','PSA','CCOI','FFIV','MOMO',\n",
    "             'STX','ELS','CHL','PDD','HLF',\n",
    "             'SBAC','SIRI','PG','TSM','CLX',\n",
    "             'DXCM','EDU','KO','XEL','GIS',\n",
    "             'HSBC','KGC','RL','FOXA','AAPL',\n",
    "             'NFLX','CCI','PNW','REGN','ERIC']\n"
   ]
  },
  {
   "cell_type": "code",
   "execution_count": 92,
   "metadata": {},
   "outputs": [],
   "source": [
    "tickers_3 = ['CSX','HAE','CHTR','BHC','K',\n",
    "             'ANET','SAM','AMTD','MKL','ZTS',\n",
    "             'AES','ATUS','FTS','GDDY','AMD',\n",
    "             'GOOG','VALE','ALSN','DG','RYAAY',\n",
    "             'NYT','AVLR','GLPI','LULU','EA',\n",
    "             'AZN','CRL','ADSW','LITE','ETSY',\n",
    "             'AEM','SPOT','INVH','QRVO','FB',\n",
    "             'WCN','UDR','QCOM','EQNR','ENB',\n",
    "             'NVCR','POR','JPM','WIX','SFM',\n",
    "             'RCI','GOOGL','CHD','AIV','TM']"
   ]
  },
  {
   "cell_type": "code",
   "execution_count": 93,
   "metadata": {},
   "outputs": [],
   "source": [
    "tickers_4 = ['BNS','TERP','NTAP','SNP','KL',\n",
    "             'TU','MSCI','BTG','ACM','RTN',\n",
    "             'PEP','V','PNM','RH','AUY',\n",
    "             'LUV','MO','ESS','RNR','CHT',\n",
    "             'LM','CHE','CNP','DEI','SATS',\n",
    "             'ZNGA','AVA','PINC','BBY','BUD',\n",
    "             'FIZZ','BKH','CZZ','ABEV','DLB',\n",
    "             'LOGI','PAAS','SWCH','CEO','COR',\n",
    "             'BRC','TS','BCE','UI','AZPN',\n",
    "             'AXS','SPGI','ALKS','TCOM','CMS']"
   ]
  },
  {
   "cell_type": "code",
   "execution_count": 127,
   "metadata": {},
   "outputs": [],
   "source": [
    "tickers_5 = ['EIX','IDA','CORT','FLO','GFI','RSG','MCO','TFSL','MCY','INVA',\n",
    "             'VGR','BILI','CFFN','MKC','D','NRG','CSGS','WBC','VMW','CWST',\n",
    "             'GNTX','RYN','BKNG','TLK','TECH','PPL','USNA','LANC','CVLT','AWK',\n",
    "             'BABA','WPM','WING','WFC','EL','PEG','HUYA','OLED','UBS','GS',\n",
    "             'SAFM','INTC','LAMR','CPB','WEC','MTD','IDXX','PFE','HEI.A','AYI',\n",
    "             'MORN','STRA','PCRX','CPA','WRE','SHEN','SCHW','CROX','CTXS','RBA',\n",
    "             'APAM','EC','RDY','GWW','CS','IONS','PCH','SSRM','TV','ACGL',\n",
    "             'DHT','FSV','CLH','PRGS','EW','ENPH','CVS','FTDR','MCD','HMC',\n",
    "             'EXC','VTR','RGR','WDFC','JNPR','SYNA','AMBA','SLG','KMB','WNS',\n",
    "             'CM','TRIP','IDCC','RIO','SJR','VIAV','RELX','LW','FCFS','ES',\n",
    "             'KOF','MT','CRVL','C','SBS','ADBE','HDB','PHI','TIF','STLD',\n",
    "             'SUI','AGI','EE','DVA','SYY','VVV','LMNX','AMAT','UGI','SJW',\n",
    "             'PBR.A','NBIX','MA','CWEN','NVR','NVMI','OGE','NVDA','CAH','PAC',\n",
    "             'OFC','LNT','NLY','MEDP','GTY','RCII','SBUX','CSII','HTZ','FOX',\n",
    "             'RGLD','AU','SWKS','CRH','ENDP','LK','CLI','MUSA','IRT','GMED',\n",
    "             'TAK','ORI','AWI','CTSH','AQN','MED','BRO','WST','UHT','SPG',\n",
    "             'NSA','MFC','LSI','PRDO','PHM','EVTC','DEA','ONTO','MODN','BLDR',\n",
    "             'IAG','TDS','HRL','SHO','SJM','ALE','NOW','AGR','GRMN','OHI',\n",
    "             'SLB','ZBH','CNK','SAP','KRNY','HOLX','WSFS','NHI','PODD','EGO',\n",
    "             'PRSC','UTL','HCA','MSI','ORA','RMBS','CXW','SRE','AXTA','XRAY',\n",
    "             'LMT','WK','NUAN','VST','NHC','ORLY','IRET','TTWO','KBH','MLCO',\n",
    "             'PETS','SPSC','GLPG','LBTYA','CIGI','LPX','NI','DEO','CVI','PTR',\n",
    "             'ATVI','HLNE','ENTA','PZZA','FMX','UL','WM','CALM','SMFG','LGND',\n",
    "             'AMX','CZR','NTCO','CHKP','AA','EXR','CRM','BAH','REG','PDM',\n",
    "             'ESRT','SEIC','LDOS','BKD','KSS','AHH','ZTO','GD','OSUR','DLR',\n",
    "             'BTI','TARO','EGOV','MBUU','APLE','ALLE','JJSF','VNDA','CCMP','UN',\n",
    "             'RDWR','IPHI','UMC','NVRO','MGLN','WU','MNR','NLOK','CF','OTTR',\n",
    "             'ATNI','EXPO','CWEN.A','IMGN','MDLZ','OUT','CRUS','PM','MDU','GOOD',\n",
    "             'KEYS','XPER','BXP','PCAR','RGEN','HUBB','QSR','NBHC','YUMC','SKYW',\n",
    "             'EBS','AJRD','PGRE','ALX','EBF','TMO','BMY/R','HIW','CAJ','WLTW']"
   ]
  },
  {
   "cell_type": "markdown",
   "metadata": {},
   "source": [
    "### 2. Define functions for data collection."
   ]
  },
  {
   "cell_type": "code",
   "execution_count": 78,
   "metadata": {},
   "outputs": [],
   "source": [
    "def get_stock_data(symbol,period):\n",
    "    '''\n",
    "    Function returns historical market data \n",
    "    for provided stock symbol and period.\n",
    "    '''\n",
    "    # get ticker\n",
    "    ticker = yf.Ticker(symbol)\n",
    "    # get historical market data\n",
    "    data = ticker.history(period=period)\n",
    "    gc.collect()\n",
    "    return data\n",
    "\n",
    "def get_data(tickers,period='10y'):\n",
    "    '''\n",
    "    Function returns data frame with historical market data\n",
    "    for provided tickers(which is list of stocks symbols) \n",
    "    and indicated period.\n",
    "    '''\n",
    "    \n",
    "    df = pd.DataFrame()\n",
    "    for ticker in tickers:\n",
    "        try:\n",
    "            # get historical data for each ticker\n",
    "            df_add = get_stock_data(ticker,period=period)\n",
    "            # add a column with ticker symbol for identification\n",
    "            df_add['Ticker'] = ticker\n",
    "            # concatenate df-s\n",
    "            df = pd.concat([df,df_add],sort='False')\n",
    "        except:\n",
    "            print(f'Ticker error:{ticker}')\n",
    "    gc.collect()   \n",
    "    return df"
   ]
  },
  {
   "cell_type": "markdown",
   "metadata": {},
   "source": [
    "### 3. Get data."
   ]
  },
  {
   "cell_type": "code",
   "execution_count": 79,
   "metadata": {},
   "outputs": [],
   "source": [
    "df_1 = get_data(tickers_1,period='10y')"
   ]
  },
  {
   "cell_type": "code",
   "execution_count": 84,
   "metadata": {},
   "outputs": [],
   "source": [
    "df_1.to_csv('tickers_1.csv', index=True)"
   ]
  },
  {
   "cell_type": "code",
   "execution_count": 91,
   "metadata": {},
   "outputs": [],
   "source": [
    "df_2 = get_data(tickers_2,period='10y')\n",
    "df_2.to_csv('tickers_2.csv', index=True)"
   ]
  },
  {
   "cell_type": "code",
   "execution_count": 94,
   "metadata": {},
   "outputs": [],
   "source": [
    "df_3 = get_data(tickers_3,period='10y')\n",
    "df_3.to_csv('tickers_3.csv', index=True)"
   ]
  },
  {
   "cell_type": "code",
   "execution_count": 95,
   "metadata": {},
   "outputs": [],
   "source": [
    "df_4 = get_data(tickers_4,period='10y')\n",
    "df_4.to_csv('tickers_4.csv', index=True)"
   ]
  },
  {
   "cell_type": "code",
   "execution_count": 128,
   "metadata": {},
   "outputs": [
    {
     "name": "stdout",
     "output_type": "stream",
     "text": [
      "- HEI.A: No data found, symbol may be delisted\n",
      "- PBR.A: No data found, symbol may be delisted\n",
      "- CWEN.A: No data found, symbol may be delisted\n",
      "Ticker error:BMY/R\n"
     ]
    }
   ],
   "source": [
    "df_5 = get_data(tickers_5,period='10y')\n",
    "df_5.to_csv('tickers_5.csv', index=True)"
   ]
  },
  {
   "cell_type": "code",
   "execution_count": 130,
   "metadata": {},
   "outputs": [
    {
     "data": {
      "text/plain": [
       "296"
      ]
     },
     "execution_count": 130,
     "metadata": {},
     "output_type": "execute_result"
    }
   ],
   "source": [
    "### 4 errors occured, check\n",
    "df_5[\"Ticker\"].nunique()"
   ]
  },
  {
   "cell_type": "markdown",
   "metadata": {},
   "source": [
    "### 4. Concatenate in one df."
   ]
  },
  {
   "cell_type": "code",
   "execution_count": 134,
   "metadata": {},
   "outputs": [
    {
     "data": {
      "text/plain": [
       "Index(['Close', 'Dividends', 'High', 'Low', 'Open', 'Stock Splits', 'Ticker',\n",
       "       'Volume'],\n",
       "      dtype='object')"
      ]
     },
     "execution_count": 134,
     "metadata": {},
     "output_type": "execute_result"
    }
   ],
   "source": [
    "# check column names for df_4\n",
    "df_4.columns"
   ]
  },
  {
   "cell_type": "code",
   "execution_count": 135,
   "metadata": {},
   "outputs": [
    {
     "data": {
      "text/plain": [
       "Index(['Adj Close', 'Close', 'Dividends', 'High', 'Low', 'Open',\n",
       "       'Stock Splits', 'Ticker', 'Volume'],\n",
       "      dtype='object')"
      ]
     },
     "execution_count": 135,
     "metadata": {},
     "output_type": "execute_result"
    }
   ],
   "source": [
    "# check column names for df_5\n",
    "df_5.columns"
   ]
  },
  {
   "cell_type": "code",
   "execution_count": 136,
   "metadata": {},
   "outputs": [],
   "source": [
    "# delete extra column in df_5\n",
    "del df_5[\"Adj Close\"]"
   ]
  },
  {
   "cell_type": "code",
   "execution_count": 105,
   "metadata": {},
   "outputs": [],
   "source": [
    "# concatenate 200 stocks in one file \n",
    "df = pd.concat([df_1,df_2,df_3,df_4],sort='False')\n",
    "df.to_csv('stocks_200.csv', index=True)"
   ]
  },
  {
   "cell_type": "code",
   "execution_count": 137,
   "metadata": {},
   "outputs": [],
   "source": [
    "# concatenate 500 stocks in one file \n",
    "df = pd.concat([df,df_5],sort='False')\n",
    "df.to_csv('stocks_500.csv', index=True)"
   ]
  },
  {
   "cell_type": "code",
   "execution_count": 140,
   "metadata": {
    "scrolled": true
   },
   "outputs": [
    {
     "name": "stdout",
     "output_type": "stream",
     "text": [
      "<class 'pandas.core.frame.DataFrame'>\n",
      "DatetimeIndex: 1142790 entries, 2010-05-19 to 2020-05-18\n",
      "Data columns (total 8 columns):\n",
      "Close           1142776 non-null float64\n",
      "Dividends       1142790 non-null float64\n",
      "High            1142776 non-null float64\n",
      "Low             1142776 non-null float64\n",
      "Open            1142776 non-null float64\n",
      "Stock Splits    1142790 non-null float64\n",
      "Ticker          1142790 non-null object\n",
      "Volume          1142776 non-null float64\n",
      "dtypes: float64(7), object(1)\n",
      "memory usage: 78.5+ MB\n"
     ]
    }
   ],
   "source": [
    "df.info()"
   ]
  },
  {
   "cell_type": "code",
   "execution_count": 141,
   "metadata": {},
   "outputs": [
    {
     "data": {
      "text/html": [
       "<div>\n",
       "<style scoped>\n",
       "    .dataframe tbody tr th:only-of-type {\n",
       "        vertical-align: middle;\n",
       "    }\n",
       "\n",
       "    .dataframe tbody tr th {\n",
       "        vertical-align: top;\n",
       "    }\n",
       "\n",
       "    .dataframe thead th {\n",
       "        text-align: right;\n",
       "    }\n",
       "</style>\n",
       "<table border=\"1\" class=\"dataframe\">\n",
       "  <thead>\n",
       "    <tr style=\"text-align: right;\">\n",
       "      <th></th>\n",
       "      <th>Close</th>\n",
       "      <th>Dividends</th>\n",
       "      <th>High</th>\n",
       "      <th>Low</th>\n",
       "      <th>Open</th>\n",
       "      <th>Stock Splits</th>\n",
       "      <th>Ticker</th>\n",
       "      <th>Volume</th>\n",
       "    </tr>\n",
       "    <tr>\n",
       "      <th>Date</th>\n",
       "      <th></th>\n",
       "      <th></th>\n",
       "      <th></th>\n",
       "      <th></th>\n",
       "      <th></th>\n",
       "      <th></th>\n",
       "      <th></th>\n",
       "      <th></th>\n",
       "    </tr>\n",
       "  </thead>\n",
       "  <tbody>\n",
       "    <tr>\n",
       "      <td>2010-05-19</td>\n",
       "      <td>17.17</td>\n",
       "      <td>0.0</td>\n",
       "      <td>17.27</td>\n",
       "      <td>16.88</td>\n",
       "      <td>16.99</td>\n",
       "      <td>0.0</td>\n",
       "      <td>BMY</td>\n",
       "      <td>16424000.0</td>\n",
       "    </tr>\n",
       "    <tr>\n",
       "      <td>2010-05-20</td>\n",
       "      <td>16.72</td>\n",
       "      <td>0.0</td>\n",
       "      <td>17.17</td>\n",
       "      <td>16.69</td>\n",
       "      <td>16.94</td>\n",
       "      <td>0.0</td>\n",
       "      <td>BMY</td>\n",
       "      <td>18724700.0</td>\n",
       "    </tr>\n",
       "    <tr>\n",
       "      <td>2010-05-21</td>\n",
       "      <td>16.62</td>\n",
       "      <td>0.0</td>\n",
       "      <td>16.69</td>\n",
       "      <td>16.29</td>\n",
       "      <td>16.58</td>\n",
       "      <td>0.0</td>\n",
       "      <td>BMY</td>\n",
       "      <td>17799800.0</td>\n",
       "    </tr>\n",
       "    <tr>\n",
       "      <td>2010-05-24</td>\n",
       "      <td>16.65</td>\n",
       "      <td>0.0</td>\n",
       "      <td>16.78</td>\n",
       "      <td>16.46</td>\n",
       "      <td>16.60</td>\n",
       "      <td>0.0</td>\n",
       "      <td>BMY</td>\n",
       "      <td>13271000.0</td>\n",
       "    </tr>\n",
       "    <tr>\n",
       "      <td>2010-05-25</td>\n",
       "      <td>16.55</td>\n",
       "      <td>0.0</td>\n",
       "      <td>16.57</td>\n",
       "      <td>16.10</td>\n",
       "      <td>16.36</td>\n",
       "      <td>0.0</td>\n",
       "      <td>BMY</td>\n",
       "      <td>13904100.0</td>\n",
       "    </tr>\n",
       "    <tr>\n",
       "      <td>...</td>\n",
       "      <td>...</td>\n",
       "      <td>...</td>\n",
       "      <td>...</td>\n",
       "      <td>...</td>\n",
       "      <td>...</td>\n",
       "      <td>...</td>\n",
       "      <td>...</td>\n",
       "      <td>...</td>\n",
       "    </tr>\n",
       "    <tr>\n",
       "      <td>2020-05-12</td>\n",
       "      <td>200.79</td>\n",
       "      <td>0.0</td>\n",
       "      <td>202.54</td>\n",
       "      <td>199.91</td>\n",
       "      <td>199.91</td>\n",
       "      <td>0.0</td>\n",
       "      <td>WLTW</td>\n",
       "      <td>1028600.0</td>\n",
       "    </tr>\n",
       "    <tr>\n",
       "      <td>2020-05-13</td>\n",
       "      <td>197.17</td>\n",
       "      <td>0.0</td>\n",
       "      <td>201.81</td>\n",
       "      <td>196.51</td>\n",
       "      <td>199.58</td>\n",
       "      <td>0.0</td>\n",
       "      <td>WLTW</td>\n",
       "      <td>840200.0</td>\n",
       "    </tr>\n",
       "    <tr>\n",
       "      <td>2020-05-14</td>\n",
       "      <td>201.66</td>\n",
       "      <td>0.0</td>\n",
       "      <td>202.20</td>\n",
       "      <td>193.28</td>\n",
       "      <td>195.83</td>\n",
       "      <td>0.0</td>\n",
       "      <td>WLTW</td>\n",
       "      <td>877600.0</td>\n",
       "    </tr>\n",
       "    <tr>\n",
       "      <td>2020-05-15</td>\n",
       "      <td>200.48</td>\n",
       "      <td>0.0</td>\n",
       "      <td>201.07</td>\n",
       "      <td>198.30</td>\n",
       "      <td>201.03</td>\n",
       "      <td>0.0</td>\n",
       "      <td>WLTW</td>\n",
       "      <td>1363900.0</td>\n",
       "    </tr>\n",
       "    <tr>\n",
       "      <td>2020-05-18</td>\n",
       "      <td>204.74</td>\n",
       "      <td>0.0</td>\n",
       "      <td>208.94</td>\n",
       "      <td>204.04</td>\n",
       "      <td>205.76</td>\n",
       "      <td>0.0</td>\n",
       "      <td>WLTW</td>\n",
       "      <td>955000.0</td>\n",
       "    </tr>\n",
       "  </tbody>\n",
       "</table>\n",
       "<p>1142790 rows × 8 columns</p>\n",
       "</div>"
      ],
      "text/plain": [
       "             Close  Dividends    High     Low    Open  Stock Splits Ticker  \\\n",
       "Date                                                                         \n",
       "2010-05-19   17.17        0.0   17.27   16.88   16.99           0.0    BMY   \n",
       "2010-05-20   16.72        0.0   17.17   16.69   16.94           0.0    BMY   \n",
       "2010-05-21   16.62        0.0   16.69   16.29   16.58           0.0    BMY   \n",
       "2010-05-24   16.65        0.0   16.78   16.46   16.60           0.0    BMY   \n",
       "2010-05-25   16.55        0.0   16.57   16.10   16.36           0.0    BMY   \n",
       "...            ...        ...     ...     ...     ...           ...    ...   \n",
       "2020-05-12  200.79        0.0  202.54  199.91  199.91           0.0   WLTW   \n",
       "2020-05-13  197.17        0.0  201.81  196.51  199.58           0.0   WLTW   \n",
       "2020-05-14  201.66        0.0  202.20  193.28  195.83           0.0   WLTW   \n",
       "2020-05-15  200.48        0.0  201.07  198.30  201.03           0.0   WLTW   \n",
       "2020-05-18  204.74        0.0  208.94  204.04  205.76           0.0   WLTW   \n",
       "\n",
       "                Volume  \n",
       "Date                    \n",
       "2010-05-19  16424000.0  \n",
       "2010-05-20  18724700.0  \n",
       "2010-05-21  17799800.0  \n",
       "2010-05-24  13271000.0  \n",
       "2010-05-25  13904100.0  \n",
       "...                ...  \n",
       "2020-05-12   1028600.0  \n",
       "2020-05-13    840200.0  \n",
       "2020-05-14    877600.0  \n",
       "2020-05-15   1363900.0  \n",
       "2020-05-18    955000.0  \n",
       "\n",
       "[1142790 rows x 8 columns]"
      ]
     },
     "execution_count": 141,
     "metadata": {},
     "output_type": "execute_result"
    }
   ],
   "source": [
    "df"
   ]
  },
  {
   "cell_type": "code",
   "execution_count": 142,
   "metadata": {},
   "outputs": [
    {
     "data": {
      "text/plain": [
       "496"
      ]
     },
     "execution_count": 142,
     "metadata": {},
     "output_type": "execute_result"
    }
   ],
   "source": [
    "# check number of stocks\n",
    "df[\"Ticker\"].nunique()"
   ]
  },
  {
   "cell_type": "code",
   "execution_count": 143,
   "metadata": {},
   "outputs": [],
   "source": [
    "### Get 4 stocks to make 500 stock data\n",
    "tickers_6 = ['WTS','UAL','ENIA','AMH']\n",
    "df_6 = get_data(tickers_6,period='10y')"
   ]
  },
  {
   "cell_type": "code",
   "execution_count": 145,
   "metadata": {},
   "outputs": [
    {
     "data": {
      "text/html": [
       "<div>\n",
       "<style scoped>\n",
       "    .dataframe tbody tr th:only-of-type {\n",
       "        vertical-align: middle;\n",
       "    }\n",
       "\n",
       "    .dataframe tbody tr th {\n",
       "        vertical-align: top;\n",
       "    }\n",
       "\n",
       "    .dataframe thead th {\n",
       "        text-align: right;\n",
       "    }\n",
       "</style>\n",
       "<table border=\"1\" class=\"dataframe\">\n",
       "  <thead>\n",
       "    <tr style=\"text-align: right;\">\n",
       "      <th></th>\n",
       "      <th>Close</th>\n",
       "      <th>Dividends</th>\n",
       "      <th>High</th>\n",
       "      <th>Low</th>\n",
       "      <th>Open</th>\n",
       "      <th>Stock Splits</th>\n",
       "      <th>Ticker</th>\n",
       "      <th>Volume</th>\n",
       "    </tr>\n",
       "    <tr>\n",
       "      <th>Date</th>\n",
       "      <th></th>\n",
       "      <th></th>\n",
       "      <th></th>\n",
       "      <th></th>\n",
       "      <th></th>\n",
       "      <th></th>\n",
       "      <th></th>\n",
       "      <th></th>\n",
       "    </tr>\n",
       "  </thead>\n",
       "  <tbody>\n",
       "    <tr>\n",
       "      <td>2010-05-19</td>\n",
       "      <td>29.35</td>\n",
       "      <td>0.00</td>\n",
       "      <td>30.40</td>\n",
       "      <td>28.98</td>\n",
       "      <td>30.29</td>\n",
       "      <td>0.0</td>\n",
       "      <td>WTS</td>\n",
       "      <td>409500</td>\n",
       "    </tr>\n",
       "    <tr>\n",
       "      <td>2010-05-20</td>\n",
       "      <td>28.12</td>\n",
       "      <td>0.11</td>\n",
       "      <td>29.06</td>\n",
       "      <td>28.11</td>\n",
       "      <td>28.64</td>\n",
       "      <td>0.0</td>\n",
       "      <td>WTS</td>\n",
       "      <td>391500</td>\n",
       "    </tr>\n",
       "    <tr>\n",
       "      <td>2010-05-21</td>\n",
       "      <td>28.40</td>\n",
       "      <td>0.00</td>\n",
       "      <td>28.63</td>\n",
       "      <td>27.44</td>\n",
       "      <td>27.67</td>\n",
       "      <td>0.0</td>\n",
       "      <td>WTS</td>\n",
       "      <td>285100</td>\n",
       "    </tr>\n",
       "    <tr>\n",
       "      <td>2010-05-24</td>\n",
       "      <td>27.95</td>\n",
       "      <td>0.00</td>\n",
       "      <td>28.62</td>\n",
       "      <td>27.87</td>\n",
       "      <td>28.24</td>\n",
       "      <td>0.0</td>\n",
       "      <td>WTS</td>\n",
       "      <td>212400</td>\n",
       "    </tr>\n",
       "    <tr>\n",
       "      <td>2010-05-25</td>\n",
       "      <td>28.04</td>\n",
       "      <td>0.00</td>\n",
       "      <td>28.14</td>\n",
       "      <td>26.76</td>\n",
       "      <td>27.14</td>\n",
       "      <td>0.0</td>\n",
       "      <td>WTS</td>\n",
       "      <td>306800</td>\n",
       "    </tr>\n",
       "    <tr>\n",
       "      <td>...</td>\n",
       "      <td>...</td>\n",
       "      <td>...</td>\n",
       "      <td>...</td>\n",
       "      <td>...</td>\n",
       "      <td>...</td>\n",
       "      <td>...</td>\n",
       "      <td>...</td>\n",
       "      <td>...</td>\n",
       "    </tr>\n",
       "    <tr>\n",
       "      <td>2020-05-12</td>\n",
       "      <td>23.81</td>\n",
       "      <td>0.00</td>\n",
       "      <td>24.80</td>\n",
       "      <td>23.67</td>\n",
       "      <td>24.72</td>\n",
       "      <td>0.0</td>\n",
       "      <td>AMH</td>\n",
       "      <td>3746300</td>\n",
       "    </tr>\n",
       "    <tr>\n",
       "      <td>2020-05-13</td>\n",
       "      <td>23.15</td>\n",
       "      <td>0.00</td>\n",
       "      <td>23.74</td>\n",
       "      <td>22.77</td>\n",
       "      <td>23.70</td>\n",
       "      <td>0.0</td>\n",
       "      <td>AMH</td>\n",
       "      <td>2344900</td>\n",
       "    </tr>\n",
       "    <tr>\n",
       "      <td>2020-05-14</td>\n",
       "      <td>23.06</td>\n",
       "      <td>0.00</td>\n",
       "      <td>23.10</td>\n",
       "      <td>22.00</td>\n",
       "      <td>22.72</td>\n",
       "      <td>0.0</td>\n",
       "      <td>AMH</td>\n",
       "      <td>2707600</td>\n",
       "    </tr>\n",
       "    <tr>\n",
       "      <td>2020-05-15</td>\n",
       "      <td>23.09</td>\n",
       "      <td>0.00</td>\n",
       "      <td>23.15</td>\n",
       "      <td>22.53</td>\n",
       "      <td>22.90</td>\n",
       "      <td>0.0</td>\n",
       "      <td>AMH</td>\n",
       "      <td>1773500</td>\n",
       "    </tr>\n",
       "    <tr>\n",
       "      <td>2020-05-18</td>\n",
       "      <td>23.91</td>\n",
       "      <td>0.00</td>\n",
       "      <td>24.32</td>\n",
       "      <td>23.67</td>\n",
       "      <td>23.99</td>\n",
       "      <td>0.0</td>\n",
       "      <td>AMH</td>\n",
       "      <td>2556000</td>\n",
       "    </tr>\n",
       "  </tbody>\n",
       "</table>\n",
       "<p>9262 rows × 8 columns</p>\n",
       "</div>"
      ],
      "text/plain": [
       "            Close  Dividends   High    Low   Open  Stock Splits Ticker  \\\n",
       "Date                                                                     \n",
       "2010-05-19  29.35       0.00  30.40  28.98  30.29           0.0    WTS   \n",
       "2010-05-20  28.12       0.11  29.06  28.11  28.64           0.0    WTS   \n",
       "2010-05-21  28.40       0.00  28.63  27.44  27.67           0.0    WTS   \n",
       "2010-05-24  27.95       0.00  28.62  27.87  28.24           0.0    WTS   \n",
       "2010-05-25  28.04       0.00  28.14  26.76  27.14           0.0    WTS   \n",
       "...           ...        ...    ...    ...    ...           ...    ...   \n",
       "2020-05-12  23.81       0.00  24.80  23.67  24.72           0.0    AMH   \n",
       "2020-05-13  23.15       0.00  23.74  22.77  23.70           0.0    AMH   \n",
       "2020-05-14  23.06       0.00  23.10  22.00  22.72           0.0    AMH   \n",
       "2020-05-15  23.09       0.00  23.15  22.53  22.90           0.0    AMH   \n",
       "2020-05-18  23.91       0.00  24.32  23.67  23.99           0.0    AMH   \n",
       "\n",
       "             Volume  \n",
       "Date                 \n",
       "2010-05-19   409500  \n",
       "2010-05-20   391500  \n",
       "2010-05-21   285100  \n",
       "2010-05-24   212400  \n",
       "2010-05-25   306800  \n",
       "...             ...  \n",
       "2020-05-12  3746300  \n",
       "2020-05-13  2344900  \n",
       "2020-05-14  2707600  \n",
       "2020-05-15  1773500  \n",
       "2020-05-18  2556000  \n",
       "\n",
       "[9262 rows x 8 columns]"
      ]
     },
     "execution_count": 145,
     "metadata": {},
     "output_type": "execute_result"
    }
   ],
   "source": [
    "df_6"
   ]
  },
  {
   "cell_type": "code",
   "execution_count": 146,
   "metadata": {},
   "outputs": [],
   "source": [
    "# create final 500 stocks and save\n",
    "df = pd.concat([df,df_6],sort='False')\n",
    "df.to_csv('stocks_500_full.csv', index=True)"
   ]
  },
  {
   "cell_type": "code",
   "execution_count": 147,
   "metadata": {},
   "outputs": [
    {
     "data": {
      "text/plain": [
       "500"
      ]
     },
     "execution_count": 147,
     "metadata": {},
     "output_type": "execute_result"
    }
   ],
   "source": [
    "df[\"Ticker\"].nunique()"
   ]
  },
  {
   "cell_type": "code",
   "execution_count": 148,
   "metadata": {},
   "outputs": [
    {
     "data": {
      "text/html": [
       "<div>\n",
       "<style scoped>\n",
       "    .dataframe tbody tr th:only-of-type {\n",
       "        vertical-align: middle;\n",
       "    }\n",
       "\n",
       "    .dataframe tbody tr th {\n",
       "        vertical-align: top;\n",
       "    }\n",
       "\n",
       "    .dataframe thead th {\n",
       "        text-align: right;\n",
       "    }\n",
       "</style>\n",
       "<table border=\"1\" class=\"dataframe\">\n",
       "  <thead>\n",
       "    <tr style=\"text-align: right;\">\n",
       "      <th></th>\n",
       "      <th>Close</th>\n",
       "      <th>Dividends</th>\n",
       "      <th>High</th>\n",
       "      <th>Low</th>\n",
       "      <th>Open</th>\n",
       "      <th>Stock Splits</th>\n",
       "      <th>Ticker</th>\n",
       "      <th>Volume</th>\n",
       "    </tr>\n",
       "    <tr>\n",
       "      <th>Date</th>\n",
       "      <th></th>\n",
       "      <th></th>\n",
       "      <th></th>\n",
       "      <th></th>\n",
       "      <th></th>\n",
       "      <th></th>\n",
       "      <th></th>\n",
       "      <th></th>\n",
       "    </tr>\n",
       "  </thead>\n",
       "  <tbody>\n",
       "    <tr>\n",
       "      <td>2010-05-19</td>\n",
       "      <td>17.17</td>\n",
       "      <td>0.0</td>\n",
       "      <td>17.27</td>\n",
       "      <td>16.88</td>\n",
       "      <td>16.99</td>\n",
       "      <td>0.0</td>\n",
       "      <td>BMY</td>\n",
       "      <td>16424000.0</td>\n",
       "    </tr>\n",
       "    <tr>\n",
       "      <td>2010-05-20</td>\n",
       "      <td>16.72</td>\n",
       "      <td>0.0</td>\n",
       "      <td>17.17</td>\n",
       "      <td>16.69</td>\n",
       "      <td>16.94</td>\n",
       "      <td>0.0</td>\n",
       "      <td>BMY</td>\n",
       "      <td>18724700.0</td>\n",
       "    </tr>\n",
       "    <tr>\n",
       "      <td>2010-05-21</td>\n",
       "      <td>16.62</td>\n",
       "      <td>0.0</td>\n",
       "      <td>16.69</td>\n",
       "      <td>16.29</td>\n",
       "      <td>16.58</td>\n",
       "      <td>0.0</td>\n",
       "      <td>BMY</td>\n",
       "      <td>17799800.0</td>\n",
       "    </tr>\n",
       "    <tr>\n",
       "      <td>2010-05-24</td>\n",
       "      <td>16.65</td>\n",
       "      <td>0.0</td>\n",
       "      <td>16.78</td>\n",
       "      <td>16.46</td>\n",
       "      <td>16.60</td>\n",
       "      <td>0.0</td>\n",
       "      <td>BMY</td>\n",
       "      <td>13271000.0</td>\n",
       "    </tr>\n",
       "    <tr>\n",
       "      <td>2010-05-25</td>\n",
       "      <td>16.55</td>\n",
       "      <td>0.0</td>\n",
       "      <td>16.57</td>\n",
       "      <td>16.10</td>\n",
       "      <td>16.36</td>\n",
       "      <td>0.0</td>\n",
       "      <td>BMY</td>\n",
       "      <td>13904100.0</td>\n",
       "    </tr>\n",
       "    <tr>\n",
       "      <td>...</td>\n",
       "      <td>...</td>\n",
       "      <td>...</td>\n",
       "      <td>...</td>\n",
       "      <td>...</td>\n",
       "      <td>...</td>\n",
       "      <td>...</td>\n",
       "      <td>...</td>\n",
       "      <td>...</td>\n",
       "    </tr>\n",
       "    <tr>\n",
       "      <td>2020-05-12</td>\n",
       "      <td>23.81</td>\n",
       "      <td>0.0</td>\n",
       "      <td>24.80</td>\n",
       "      <td>23.67</td>\n",
       "      <td>24.72</td>\n",
       "      <td>0.0</td>\n",
       "      <td>AMH</td>\n",
       "      <td>3746300.0</td>\n",
       "    </tr>\n",
       "    <tr>\n",
       "      <td>2020-05-13</td>\n",
       "      <td>23.15</td>\n",
       "      <td>0.0</td>\n",
       "      <td>23.74</td>\n",
       "      <td>22.77</td>\n",
       "      <td>23.70</td>\n",
       "      <td>0.0</td>\n",
       "      <td>AMH</td>\n",
       "      <td>2344900.0</td>\n",
       "    </tr>\n",
       "    <tr>\n",
       "      <td>2020-05-14</td>\n",
       "      <td>23.06</td>\n",
       "      <td>0.0</td>\n",
       "      <td>23.10</td>\n",
       "      <td>22.00</td>\n",
       "      <td>22.72</td>\n",
       "      <td>0.0</td>\n",
       "      <td>AMH</td>\n",
       "      <td>2707600.0</td>\n",
       "    </tr>\n",
       "    <tr>\n",
       "      <td>2020-05-15</td>\n",
       "      <td>23.09</td>\n",
       "      <td>0.0</td>\n",
       "      <td>23.15</td>\n",
       "      <td>22.53</td>\n",
       "      <td>22.90</td>\n",
       "      <td>0.0</td>\n",
       "      <td>AMH</td>\n",
       "      <td>1773500.0</td>\n",
       "    </tr>\n",
       "    <tr>\n",
       "      <td>2020-05-18</td>\n",
       "      <td>23.91</td>\n",
       "      <td>0.0</td>\n",
       "      <td>24.32</td>\n",
       "      <td>23.67</td>\n",
       "      <td>23.99</td>\n",
       "      <td>0.0</td>\n",
       "      <td>AMH</td>\n",
       "      <td>2556000.0</td>\n",
       "    </tr>\n",
       "  </tbody>\n",
       "</table>\n",
       "<p>1152052 rows × 8 columns</p>\n",
       "</div>"
      ],
      "text/plain": [
       "            Close  Dividends   High    Low   Open  Stock Splits Ticker  \\\n",
       "Date                                                                     \n",
       "2010-05-19  17.17        0.0  17.27  16.88  16.99           0.0    BMY   \n",
       "2010-05-20  16.72        0.0  17.17  16.69  16.94           0.0    BMY   \n",
       "2010-05-21  16.62        0.0  16.69  16.29  16.58           0.0    BMY   \n",
       "2010-05-24  16.65        0.0  16.78  16.46  16.60           0.0    BMY   \n",
       "2010-05-25  16.55        0.0  16.57  16.10  16.36           0.0    BMY   \n",
       "...           ...        ...    ...    ...    ...           ...    ...   \n",
       "2020-05-12  23.81        0.0  24.80  23.67  24.72           0.0    AMH   \n",
       "2020-05-13  23.15        0.0  23.74  22.77  23.70           0.0    AMH   \n",
       "2020-05-14  23.06        0.0  23.10  22.00  22.72           0.0    AMH   \n",
       "2020-05-15  23.09        0.0  23.15  22.53  22.90           0.0    AMH   \n",
       "2020-05-18  23.91        0.0  24.32  23.67  23.99           0.0    AMH   \n",
       "\n",
       "                Volume  \n",
       "Date                    \n",
       "2010-05-19  16424000.0  \n",
       "2010-05-20  18724700.0  \n",
       "2010-05-21  17799800.0  \n",
       "2010-05-24  13271000.0  \n",
       "2010-05-25  13904100.0  \n",
       "...                ...  \n",
       "2020-05-12   3746300.0  \n",
       "2020-05-13   2344900.0  \n",
       "2020-05-14   2707600.0  \n",
       "2020-05-15   1773500.0  \n",
       "2020-05-18   2556000.0  \n",
       "\n",
       "[1152052 rows x 8 columns]"
      ]
     },
     "execution_count": 148,
     "metadata": {},
     "output_type": "execute_result"
    }
   ],
   "source": [
    "df"
   ]
  },
  {
   "cell_type": "code",
   "execution_count": 149,
   "metadata": {},
   "outputs": [
    {
     "name": "stdout",
     "output_type": "stream",
     "text": [
      "<class 'pandas.core.frame.DataFrame'>\n",
      "DatetimeIndex: 1152052 entries, 2010-05-19 to 2020-05-18\n",
      "Data columns (total 8 columns):\n",
      "Close           1152038 non-null float64\n",
      "Dividends       1152052 non-null float64\n",
      "High            1152038 non-null float64\n",
      "Low             1152038 non-null float64\n",
      "Open            1152038 non-null float64\n",
      "Stock Splits    1152052 non-null float64\n",
      "Ticker          1152052 non-null object\n",
      "Volume          1152038 non-null float64\n",
      "dtypes: float64(7), object(1)\n",
      "memory usage: 79.1+ MB\n"
     ]
    }
   ],
   "source": [
    "df.info()"
   ]
  }
 ],
 "metadata": {
  "kernelspec": {
   "display_name": "Python 3",
   "language": "python",
   "name": "python3"
  },
  "language_info": {
   "codemirror_mode": {
    "name": "ipython",
    "version": 3
   },
   "file_extension": ".py",
   "mimetype": "text/x-python",
   "name": "python",
   "nbconvert_exporter": "python",
   "pygments_lexer": "ipython3",
   "version": "3.6.9"
  }
 },
 "nbformat": 4,
 "nbformat_minor": 2
}
